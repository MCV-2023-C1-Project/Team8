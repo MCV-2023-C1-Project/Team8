{
 "cells": [
  {
   "cell_type": "markdown",
   "metadata": {},
   "source": [
    "# C1 - Content Based Image Retrieval\n",
    "### Team 8"
   ]
  },
  {
   "cell_type": "code",
   "execution_count": 1,
   "metadata": {},
   "outputs": [],
   "source": [
    "import numpy as np\n",
    "import cv2\n",
    "import glob\n",
    "import tqdm\n",
    "import pickle\n",
    "import os\n",
    "import math"
   ]
  },
  {
   "cell_type": "code",
   "execution_count": 2,
   "metadata": {},
   "outputs": [],
   "source": [
    "class DataLoader():\n",
    "    def __init__(self, folder_path):\n",
    "        self.folder_path = folder_path\n",
    "\n",
    "    def get_mask(self, im, look=4, mode='lab'):\n",
    "        thresholds = []\n",
    "        for channel in range(3):\n",
    "            if mode == 'lab' and channel == 0:\n",
    "                thresholds.append((None, None))\n",
    "                continue\n",
    "            arr = np.concatenate([im[:look, :, channel].flatten(), im[-look:, :, channel].flatten(), im[:, -look:, channel].flatten(),  im[:, :look, channel].flatten()])\n",
    "            thresholds.append((np.min(arr), np.max(arr)))\n",
    "            \n",
    "        mask = np.ones(im.shape[:2])\n",
    "        for channel in range(3):\n",
    "            if mode == 'lab' and channel == 0:\n",
    "                continue\n",
    "            mask = mask * np.where((im[:,:,channel] > thresholds[channel][0]) & (im[:,:,channel] < thresholds[channel][1]), 1, 0)\n",
    "\n",
    "        return 1-mask\n",
    "\n",
    "    def load_data(self, blocks=False, blockNumber=16, remove_background=False):\n",
    "        # Get a list of all image file names in the folder\n",
    "        image_files = glob.glob(self.folder_path+'/*.jpg')\n",
    "\n",
    "        # Initialize an empty list to store the processed images and masks\n",
    "        processed_features_rgb = dict()\n",
    "        processed_features_hsv = dict()\n",
    "        processed_features_lab = dict()\n",
    "        masks = []\n",
    "\n",
    "        # Iterate over each image file\n",
    "        for f in tqdm.tqdm(image_files):\n",
    "\n",
    "            img_id = int(f.split('\\\\')[-1].split('.')[0].split('_')[-1])\n",
    "\n",
    "            # Load the image\n",
    "            image = cv2.imread(f)\n",
    "\n",
    "            # Convert the image from BGR to lab color space\n",
    "            image_lab = cv2.cvtColor(image, cv2.COLOR_BGR2Lab)\n",
    "\n",
    "            # Convert the image from BGR to HSV color space\n",
    "            image_hsv = cv2.cvtColor(image, cv2.COLOR_BGR2HSV)\n",
    "\n",
    "            # Remove background\n",
    "            if remove_background:\n",
    "                mask_rgb = self.get_mask(image, look=60, mode='rgb')\n",
    "                mask_hsv = self.get_mask(image_hsv, look=60, mode='hsv')\n",
    "                mask_lab = self.get_mask(image_lab, look=60, mode='lab')\n",
    "            else:\n",
    "                mask_rgb, mask_hsv, mask_lab = None, None, None\n",
    "\n",
    "            masks.append([mask_rgb, mask_hsv, mask_lab])\n",
    "\n",
    "            if blocks:\n",
    "                # Get the features of the image\n",
    "                features = self.get_features_by_blocks(image, blockNumber, 'rgb', mask=mask_rgb)\n",
    "                features_hsv = self.get_features_by_blocks(image_hsv, blockNumber, 'hsv', mask=mask_hsv)\n",
    "                features_lab = self.get_features_by_blocks(image_lab, blockNumber, 'lab', mask=mask_lab)\n",
    "            else:\n",
    "                features = self.get_features(image, 'rgb', mask=mask_rgb)\n",
    "                features_hsv = self.get_features(image_hsv, 'hsv', mask=mask_hsv) # h: (0,179), s,v: (0,255)\n",
    "                features_lab = self.get_features(image_lab, 'lab', mask=mask_lab) # l: (0,255), a,b: (0,255)\n",
    "\n",
    "            # Append the features to the dict\n",
    "            processed_features_rgb[img_id] = features\n",
    "            processed_features_hsv[img_id] = features_hsv\n",
    "            processed_features_lab[img_id] = features_lab\n",
    "\n",
    "        return processed_features_rgb, processed_features_hsv, processed_features_lab, masks\n",
    "    \n",
    "\n",
    "    def create_blocks_array(self, image, blockNumber):\n",
    "        # Set number of slices per axis\n",
    "        axisSlice = int(math.sqrt(blockNumber))\n",
    "\n",
    "        blocksArray = []\n",
    "        # Split the image into vertical blocks\n",
    "        split_h = np.array_split(image, axisSlice, axis = 0)\n",
    "        for i in range(axisSlice):\n",
    "            for j in range(axisSlice):\n",
    "                # Split vertical blocks into square blocks\n",
    "                split_hv = np.array_split(split_h[i], axisSlice, axis = 1)\n",
    "                blocksArray.append(split_hv[j])\n",
    "        return blocksArray\n",
    "    \n",
    "    def get_features_by_blocks(self, image, blockNumber, mode, mask=None):\n",
    "        \n",
    "        # Get the blocks array\n",
    "        blocksArray = self.create_blocks_array(image, blockNumber)\n",
    "        \n",
    "        # Initialize an empty list to store the histograms\n",
    "        histograms = []\n",
    "\n",
    "        if mask is not None:\n",
    "            blocksMasks = self.create_blocks_array(mask, blockNumber)\n",
    "\n",
    "            for block, mask_i in zip(blocksArray, blocksMasks):\n",
    "                for i, channel in enumerate(cv2.split(block)):\n",
    "                    if mode == 'hsv' and i == 0:\n",
    "                        range = 180\n",
    "                    else:\n",
    "                        range = 256\n",
    "                    # Compute the histogram of the channel and append it to the list\n",
    "                    hist, _ = np.histogram(channel[mask_i != 0], bins=int(range/6), range=(0, range))\n",
    "                    histograms.append(hist / (block.shape[0] * block.shape[1]))\n",
    "        else:\n",
    "            for block in blocksArray:\n",
    "                for i, channel in enumerate(cv2.split(block)):\n",
    "                    if mode == 'hsv' and i == 0:\n",
    "                        range = 180\n",
    "                    else:\n",
    "                        range = 256\n",
    "                    # Compute the histogram of the channel and append it to the list\n",
    "                    hist, _ = np.histogram(channel, bins=int(range/6), range=(0, range))\n",
    "                    histograms.append(hist  / (block.shape[0] * block.shape[1]))\n",
    "\n",
    "        # Concatenate all histograms into a single feature vector\n",
    "        return np.concatenate(histograms)\n",
    "    \n",
    "    def get_features(self, image, mode, mask=None):\n",
    "        channels = cv2.split(image)\n",
    "\n",
    "        # Initialize an empty list to store the histograms\n",
    "        histograms = []\n",
    "\n",
    "        if mask is not None:\n",
    "            for i, channel in enumerate(channels):\n",
    "                if mode == 'hsv' and i == 0:\n",
    "                    range = 180\n",
    "                else:\n",
    "                    range = 256\n",
    "                # Compute the histogram of the channel and append it to the list\n",
    "                hist, _ = np.histogram(channel[mask != 0], bins=int(range/6), range=(0, range))\n",
    "                histograms.append(hist / (image.shape[0] * image.shape[1]))\n",
    "        else:\n",
    "            for i, channel in enumerate(channels):\n",
    "                if mode == 'hsv' and i == 0:\n",
    "                    range = 180\n",
    "                else:\n",
    "                    range = 256\n",
    "                # Compute the histogram of the channel and append it to the list\n",
    "                hist, _ = np.histogram(channel, bins=int(range/6), range=(0, range))\n",
    "                histograms.append(hist / (image.shape[0] * image.shape[1]))\n",
    "\n",
    "        # Concatenate all histograms into a single feature vector\n",
    "        return np.concatenate(histograms)"
   ]
  },
  {
   "cell_type": "code",
   "execution_count": 3,
   "metadata": {},
   "outputs": [],
   "source": [
    "# Copied from https://github.com/benhamner/Metrics -> Metrics.Python.ml_metrics.average_precision.py\n",
    "def apk(actual, predicted, k=10):\n",
    "    \"\"\"\n",
    "    Computes the average precision at k.\n",
    "\n",
    "    This function computes the average prescision at k between two lists of\n",
    "    items.\n",
    "\n",
    "    Parameters\n",
    "    ----------\n",
    "    actual : list\n",
    "             A list of elements that are to be predicted (order doesn't matter)\n",
    "    predicted : list\n",
    "                A list of predicted elements (order does matter)\n",
    "    k : int, optional\n",
    "        The maximum number of predicted elements\n",
    "\n",
    "    Returns\n",
    "    -------\n",
    "    score : double\n",
    "            The average precision at k over the input lists\n",
    "\n",
    "    \"\"\"\n",
    "    if len(predicted)>k:\n",
    "        predicted = predicted[:k]\n",
    "\n",
    "    score = 0.0\n",
    "    num_hits = 0.0\n",
    "\n",
    "    for i,p in enumerate(predicted):\n",
    "        if p in actual and p not in predicted[:i]:\n",
    "            num_hits += 1.0\n",
    "            score += num_hits / (i+1.0)\n",
    "\n",
    "    if not actual:\n",
    "        return 0.0\n",
    "\n",
    "    return score / min(len(actual), k)\n",
    "\n",
    "# Copied from https://github.com/benhamner/Metrics -> Metrics.Python.ml_metrics.average_precision.py\n",
    "def mapk(actual, predicted, k=10):\n",
    "    \"\"\"\n",
    "    Computes the mean average precision at k.\n",
    "\n",
    "    This function computes the mean average prescision at k between two lists\n",
    "    of lists of items.\n",
    "\n",
    "    Parameters\n",
    "    ----------\n",
    "    actual : list\n",
    "             A list of lists of elements that are to be predicted \n",
    "             (order doesn't matter in the lists)\n",
    "    predicted : list\n",
    "                A list of lists of predicted elements\n",
    "                (order matters in the lists)\n",
    "    k : int, optional\n",
    "        The maximum number of predicted elements\n",
    "\n",
    "    Returns\n",
    "    -------\n",
    "    score : double\n",
    "            The mean average precision at k over the input lists\n",
    "\n",
    "    \"\"\"\n",
    "    return np.mean([apk(a,p,k) for a,p in zip(actual, predicted)])\n",
    "\n",
    "# compute the histogram intersection between two feature vectors\n",
    "def histogram_intersection(hist1, hist2):\n",
    "    return np.sum(np.minimum(hist1, hist2))\n",
    "\n",
    "# compute the euclidian distance between two feature vectors\n",
    "def euclidian_distance(hist1, hist2):\n",
    "    return np.sqrt(np.sum(np.square(hist1 - hist2)))\n",
    "\n",
    "# compute the chi-squared distance between two feature vectors\n",
    "def chi_squared_distance(hist1, hist2):\n",
    "    return np.sum(np.square(hist1 - hist2) / (hist1 + hist2 + 1e-10))\n",
    "\n",
    "# compute the bhattacharyya distance between two feature vectors\n",
    "def bhattacharyya_distance(hist1, hist2):\n",
    "    # Ensure that both histograms have the same shape\n",
    "    assert hist1.shape == hist2.shape, \"Histograms must have the same shape\"\n",
    "    # Calculate the Bhattacharyya coefficient\n",
    "    bhattacharyya_coeff = np.sum(np.sqrt(hist1 * hist2))\n",
    "    # Calculate the Bhattacharyya distance\n",
    "    bhattacharyya_distance = -np.log(bhattacharyya_coeff)\n",
    "    return bhattacharyya_distance\n",
    "\n",
    "# compute the Helling distance (Hellinger kernel) between two feature vectors\n",
    "def hellinger_kernel(hist1, hist2):\n",
    "    return np.sum(np.sqrt(hist1*hist2))\n",
    "\n",
    "def compare_images(query_features, bbdd_features, k, sim_func):\n",
    "    result = []\n",
    "    for id1,f1 in query_features.items():\n",
    "        distances = []\n",
    "        for id2,f2 in bbdd_features.items():\n",
    "            distances.append((id2, sim_func(f1,f2)))\n",
    "\n",
    "        #get k smallest values from distances\n",
    "        if sim_func in [euclidian_distance, chi_squared_distance, bhattacharyya_distance]:\n",
    "            k_smallest = sorted(distances, reverse=False, key=lambda x: x[1])[:k]\n",
    "        else:\n",
    "            k_smallest = sorted(distances, reverse=True, key=lambda x: x[1])[:k]\n",
    "        result.append((id1, k_smallest))\n",
    "        \n",
    "    result2 = []\n",
    "    for x in result:\n",
    "        result2.append([y[0] for y in x[1]])\n",
    "    \n",
    "    return result2"
   ]
  },
  {
   "cell_type": "code",
   "execution_count": 4,
   "metadata": {},
   "outputs": [],
   "source": [
    "def performance_accumulation_pixel(pixel_candidates, pixel_annotation):\n",
    "    \"\"\" \n",
    "    performance_accumulation_pixel()\n",
    "\n",
    "    Function to compute different performance indicators \n",
    "    (True Positive, False Positive, False Negative, True Negative) \n",
    "    at the pixel level\n",
    "       \n",
    "    [pixelTP, pixelFP, pixelFN, pixelTN] = performance_accumulation_pixel(pixel_candidates, pixel_annotation)\n",
    "       \n",
    "    Parameter name      Value\n",
    "    --------------      -----\n",
    "    'pixel_candidates'   Binary image marking the foreground areas\n",
    "    'pixel_annotation'   Binary image containing ground truth\n",
    "       \n",
    "    The function returns the number of True Positive (pixelTP), False Positive (pixelFP), \n",
    "    False Negative (pixelFN) and True Negative (pixelTN) pixels in the image pixel_candidates\n",
    "    \"\"\"\n",
    "    \n",
    "    pixel_candidates = np.uint64(pixel_candidates>0)\n",
    "    pixel_annotation = np.uint64(pixel_annotation>0)\n",
    "    \n",
    "    pixelTP = np.sum(pixel_candidates & pixel_annotation)\n",
    "    pixelFP = np.sum(pixel_candidates & (pixel_annotation==0))\n",
    "    pixelFN = np.sum((pixel_candidates==0) & pixel_annotation)\n",
    "    pixelTN = np.sum((pixel_candidates==0) & (pixel_annotation==0))\n",
    "\n",
    "\n",
    "    return [pixelTP, pixelFP, pixelFN, pixelTN]"
   ]
  },
  {
   "cell_type": "code",
   "execution_count": 5,
   "metadata": {},
   "outputs": [],
   "source": [
    "# Load ground truth files for each query\n",
    "with open('data/qsd1_w1/gt_corresps.pkl', 'rb') as f:\n",
    "    gt1 = pickle.load(f)\n",
    "\n",
    "with open('data/qsd2_w1/gt_corresps.pkl', 'rb') as f:\n",
    "    gt2 = pickle.load(f)"
   ]
  },
  {
   "cell_type": "markdown",
   "metadata": {},
   "source": [
    "## Validation results\n",
    "\n",
    "### Method 1:\n",
    "- Represent the original image in the HSV color space.\n",
    "- Image descriptor: Concatenate the normalised histograms of the 3 image channels.\n",
    "- Chi-square distance as the similarity function."
   ]
  },
  {
   "cell_type": "code",
   "execution_count": 6,
   "metadata": {},
   "outputs": [
    {
     "name": "stderr",
     "output_type": "stream",
     "text": [
      "  0%|          | 0/287 [00:00<?, ?it/s]"
     ]
    },
    {
     "name": "stderr",
     "output_type": "stream",
     "text": [
      "100%|██████████| 287/287 [01:20<00:00,  3.57it/s]\n",
      "100%|██████████| 30/30 [00:02<00:00, 12.76it/s]\n",
      "100%|██████████| 30/30 [00:02<00:00, 13.06it/s]\n",
      "100%|██████████| 30/30 [00:05<00:00,  5.26it/s]\n"
     ]
    }
   ],
   "source": [
    "# Retrieval parameters\n",
    "k = 10\n",
    "sim_func = chi_squared_distance\n",
    "\n",
    "# Create DataLoader objects for both the database and the queries\n",
    "data_loader = DataLoader('data/BBDD')\n",
    "_, features_hsv, _, _ = data_loader.load_data(blocks=False)\n",
    "\n",
    "data_loader_q1 = DataLoader('data/qsd1_w1')\n",
    "_, features_hsv_q1, _, _ = data_loader_q1.load_data(blocks=False)\n",
    "\n",
    "data_loader_q2 = DataLoader('data/qsd2_w1')\n",
    "_, features_hsv_q2, _, _ = data_loader_q1.load_data(blocks=False)\n",
    "_, features_hsv_q2_no_back, _, masks = data_loader_q2.load_data(blocks=False, remove_background=True)"
   ]
  },
  {
   "cell_type": "code",
   "execution_count": 7,
   "metadata": {},
   "outputs": [
    {
     "data": {
      "text/plain": [
       "(0.43333333333333335, 0.5272222222222223, 0.5367460317460317)"
      ]
     },
     "execution_count": 7,
     "metadata": {},
     "output_type": "execute_result"
    }
   ],
   "source": [
    "# Query 1: Results and mAP@k\n",
    "results_hsv_q1 = compare_images(features_hsv_q1, features_hsv, k, sim_func)\n",
    "\n",
    "mapk_lab_1 = mapk(gt1, results_hsv_q1, 1)\n",
    "mapk_lab_5 = mapk(gt1, results_hsv_q1, 5)\n",
    "mapk_lab_10 = mapk(gt1, results_hsv_q1, 10)\n",
    "\n",
    "mapk_lab_1, mapk_lab_5, mapk_lab_10"
   ]
  },
  {
   "cell_type": "code",
   "execution_count": 8,
   "metadata": {},
   "outputs": [
    {
     "data": {
      "text/plain": [
       "(0.03333333333333333, 0.03333333333333333, 0.03333333333333333)"
      ]
     },
     "execution_count": 8,
     "metadata": {},
     "output_type": "execute_result"
    }
   ],
   "source": [
    "# Query 2: Results and mAP@k\n",
    "results_hsv_q2 = compare_images(features_hsv_q2, features_hsv, k, sim_func)\n",
    "\n",
    "mapk_lab_1 = mapk(gt2, results_hsv_q2, 1)\n",
    "mapk_lab_5 = mapk(gt2, results_hsv_q2, 5)\n",
    "mapk_lab_10 = mapk(gt2, results_hsv_q2, 10)\n",
    "\n",
    "mapk_lab_1, mapk_lab_5, mapk_lab_10"
   ]
  },
  {
   "cell_type": "code",
   "execution_count": 9,
   "metadata": {},
   "outputs": [
    {
     "data": {
      "text/plain": [
       "(0.3, 0.35, 0.3584656084656085)"
      ]
     },
     "execution_count": 9,
     "metadata": {},
     "output_type": "execute_result"
    }
   ],
   "source": [
    "# Query 2, removing background: Results and mAP@k\n",
    "results_hsv_q2_no_back = compare_images(features_hsv_q2_no_back, features_hsv, k, sim_func)\n",
    "\n",
    "mapk_lab_1 = mapk(gt2, results_hsv_q2_no_back, 1)\n",
    "mapk_lab_5 = mapk(gt2, results_hsv_q2_no_back, 5)\n",
    "mapk_lab_10 = mapk(gt2, results_hsv_q2_no_back, 10)\n",
    "\n",
    "mapk_lab_1, mapk_lab_5, mapk_lab_10"
   ]
  },
  {
   "cell_type": "markdown",
   "metadata": {},
   "source": [
    "### Method 2:\n",
    "- Represent the original image in the CIE Lab color space.\n",
    "- Image descriptor: Divide the image in 256 blocks, get the histogram for each one and concatenate all of them.\n",
    "- Histogram intersection as the similarity function."
   ]
  },
  {
   "cell_type": "code",
   "execution_count": 11,
   "metadata": {},
   "outputs": [
    {
     "name": "stderr",
     "output_type": "stream",
     "text": [
      "100%|██████████| 287/287 [01:57<00:00,  2.43it/s]\n",
      "100%|██████████| 30/30 [00:07<00:00,  3.93it/s]\n",
      "100%|██████████| 30/30 [00:09<00:00,  3.04it/s]\n",
      "100%|██████████| 30/30 [00:12<00:00,  2.40it/s]\n"
     ]
    }
   ],
   "source": [
    "# Retrieval parameters\n",
    "k = 10\n",
    "sim_func = histogram_intersection\n",
    "\n",
    "# Create DataLoader objects for both the database and the queries\n",
    "data_loader = DataLoader('data/BBDD')\n",
    "_, _, features_lab, _ = data_loader.load_data(blocks=True, blockNumber=256)\n",
    "\n",
    "data_loader_q1 = DataLoader('data/qsd1_w1')\n",
    "_, _, features_lab_q1, _ = data_loader_q1.load_data(blocks=True, blockNumber=256)\n",
    "\n",
    "data_loader_q2 = DataLoader('data/qsd2_w1')\n",
    "_, _, features_lab_q2, _ = data_loader_q2.load_data(blocks=True, blockNumber=256)\n",
    "_, _, features_lab_q2_no_back, masks = data_loader_q2.load_data(blocks=True, blockNumber=256, remove_background=True)"
   ]
  },
  {
   "cell_type": "code",
   "execution_count": 12,
   "metadata": {},
   "outputs": [
    {
     "data": {
      "text/plain": [
       "(0.9333333333333333, 0.94, 0.94)"
      ]
     },
     "execution_count": 12,
     "metadata": {},
     "output_type": "execute_result"
    }
   ],
   "source": [
    "# Query 1: Results and mAP@k\n",
    "results_lab_q1 = compare_images(features_lab_q1, features_lab, k, sim_func)\n",
    "\n",
    "mapk_lab_1 = mapk(gt1, results_lab_q1, 1)\n",
    "mapk_lab_5 = mapk(gt1, results_lab_q1, 5)\n",
    "mapk_lab_10 = mapk(gt1, results_lab_q1, 10)\n",
    "\n",
    "mapk_lab_1, mapk_lab_5, mapk_lab_10"
   ]
  },
  {
   "cell_type": "code",
   "execution_count": 13,
   "metadata": {},
   "outputs": [
    {
     "data": {
      "text/plain": [
       "(0.03333333333333333, 0.041666666666666664, 0.041666666666666664)"
      ]
     },
     "execution_count": 13,
     "metadata": {},
     "output_type": "execute_result"
    }
   ],
   "source": [
    "# Query 2: Results and mAP@k\n",
    "results_lab_q2 = compare_images(features_lab_q2, features_lab, k, sim_func)\n",
    "\n",
    "mapk_lab_1 = mapk(gt2, results_lab_q1, 1)\n",
    "mapk_lab_5 = mapk(gt2, results_lab_q1, 5)\n",
    "mapk_lab_10 = mapk(gt2, results_lab_q1, 10)\n",
    "\n",
    "mapk_lab_1, mapk_lab_5, mapk_lab_10"
   ]
  },
  {
   "cell_type": "code",
   "execution_count": 14,
   "metadata": {},
   "outputs": [
    {
     "data": {
      "text/plain": [
       "(0.5, 0.5344444444444444, 0.5423148148148148)"
      ]
     },
     "execution_count": 14,
     "metadata": {},
     "output_type": "execute_result"
    }
   ],
   "source": [
    "# Query 2, removing background: Results and mAP@k\n",
    "results_lab_q2_no_back = compare_images(features_lab_q2_no_back, features_lab, k, sim_func)\n",
    "\n",
    "mapk_lab_1 = mapk(gt2, results_lab_q2_no_back, 1)\n",
    "mapk_lab_5 = mapk(gt2, results_lab_q2_no_back, 5)\n",
    "mapk_lab_10 = mapk(gt2, results_lab_q2_no_back, 10)\n",
    "\n",
    "mapk_lab_1, mapk_lab_5, mapk_lab_10"
   ]
  },
  {
   "cell_type": "markdown",
   "metadata": {},
   "source": [
    "### Precision, Recall and F1-score of the masking method"
   ]
  },
  {
   "cell_type": "code",
   "execution_count": 15,
   "metadata": {},
   "outputs": [
    {
     "name": "stdout",
     "output_type": "stream",
     "text": [
      "Precision: 0.9161133482286591\n",
      "Recall: 0.6968414832722183\n",
      "F1-score: 0.749814857836167\n"
     ]
    }
   ],
   "source": [
    "folder_path = \"data/qsd2_w1\"\n",
    "\n",
    "precision, recall, f1 = [], [], []\n",
    "for i, im_file in enumerate(glob.glob(os.path.join(folder_path, \"*.png\"))):\n",
    "    mask_gt = cv2.imread(im_file, cv2.IMREAD_GRAYSCALE)\n",
    "    pixelTP, pixelFP, pixelFN, pixelTN = performance_accumulation_pixel(masks[i][2], mask_gt)\n",
    "\n",
    "    p = pixelTP / (pixelTP + pixelFP)\n",
    "    r = pixelTP / (pixelTP + pixelFN)\n",
    "\n",
    "    precision.append(p)\n",
    "    recall.append(r)\n",
    "    f1.append(2 * (p * r) / (p + r))\n",
    "\n",
    "print(\"Precision:\", np.mean(precision))\n",
    "print(\"Recall:\", np.mean(recall))\n",
    "print(\"F1-score:\", np.mean(f1))"
   ]
  },
  {
   "cell_type": "markdown",
   "metadata": {},
   "source": [
    "## Get test results from both queries\n",
    "\n",
    "#### Method 1:"
   ]
  },
  {
   "cell_type": "code",
   "execution_count": 16,
   "metadata": {},
   "outputs": [
    {
     "name": "stderr",
     "output_type": "stream",
     "text": [
      "100%|██████████| 287/287 [01:14<00:00,  3.85it/s]\n",
      "100%|██████████| 30/30 [00:02<00:00, 10.83it/s]\n",
      "100%|██████████| 30/30 [00:05<00:00,  5.59it/s]\n"
     ]
    }
   ],
   "source": [
    "# Create DataLoader objects for both the database and the queries\n",
    "data_loader = DataLoader('data/BBDD')\n",
    "_, features_hsv, _, _ = data_loader.load_data(blocks=False)\n",
    "\n",
    "data_loader_q1 = DataLoader('data/qst1_w1')\n",
    "_, features_hsv_q1, _, _ = data_loader_q1.load_data(blocks=False)\n",
    "\n",
    "data_loader_q2_no_back = DataLoader('data/qst2_w1')\n",
    "_, features_hsv_q2_no_back, _, masks = data_loader_q2_no_back.load_data(blocks=False, remove_background=True)"
   ]
  },
  {
   "cell_type": "code",
   "execution_count": 17,
   "metadata": {},
   "outputs": [],
   "source": [
    "# Retrieval parameters\n",
    "k = 10\n",
    "sim_func = chi_squared_distance\n",
    "\n",
    "# Get results\n",
    "results_hsv_q1 = compare_images(features_hsv_q1, features_hsv, k, sim_func)\n",
    "results_hsv_q2_no_back = compare_images(features_hsv_q2_no_back, features_hsv, k, sim_func)"
   ]
  },
  {
   "cell_type": "code",
   "execution_count": 18,
   "metadata": {},
   "outputs": [],
   "source": [
    "# Ensure that the destination folders exist\n",
    "os.makedirs(os.path.dirname(\"test_results/QST1/method1/\"), exist_ok=True)\n",
    "os.makedirs(os.path.dirname(\"test_results/QST2/method1/\"), exist_ok=True)\n",
    "\n",
    "# Save results as pickle files and masks as png images\n",
    "with open(\"test_results/QST1/method1/result.pkl\", \"wb\") as f:\n",
    "    pickle.dump(results_hsv_q1, f)\n",
    "\n",
    "with open(\"test_results/QST2/method1/result.pkl\", \"wb\") as f:\n",
    "    pickle.dump(results_hsv_q2_no_back, f)\n",
    "\n",
    "for i, mask in enumerate(masks):\n",
    "    final_mask = (mask[0]*mask[1]*mask[2])*255\n",
    "    image_mask_name = str(i).zfill(5) + \".png\"\n",
    "    cv2.imwrite(os.path.join(\"test_results/QST2/method1/\", image_mask_name), final_mask)"
   ]
  },
  {
   "cell_type": "markdown",
   "metadata": {},
   "source": [
    "#### Method 2:"
   ]
  },
  {
   "cell_type": "code",
   "execution_count": 19,
   "metadata": {},
   "outputs": [
    {
     "name": "stderr",
     "output_type": "stream",
     "text": [
      "100%|██████████| 287/287 [01:54<00:00,  2.51it/s]\n",
      "100%|██████████| 30/30 [00:07<00:00,  3.80it/s]\n",
      "100%|██████████| 30/30 [00:11<00:00,  2.65it/s]\n"
     ]
    }
   ],
   "source": [
    "# Create DataLoader objects for both the database and the queries\n",
    "data_loader = DataLoader('data/BBDD')\n",
    "_, _, features_lab, _ = data_loader.load_data(blocks=True, blockNumber=256)\n",
    "\n",
    "data_loader_q1 = DataLoader('data/qst1_w1')\n",
    "_, _, features_lab_q1, _ = data_loader_q1.load_data(blocks=True, blockNumber=256)\n",
    "\n",
    "data_loader_q2_no_back = DataLoader('data/qst2_w1')\n",
    "_, _, features_lab_q2_no_back, masks = data_loader_q2_no_back.load_data(blocks=True, blockNumber=256, remove_background=True)"
   ]
  },
  {
   "cell_type": "code",
   "execution_count": 20,
   "metadata": {},
   "outputs": [],
   "source": [
    "# Retrieval parameters\n",
    "k = 10\n",
    "sim_func = histogram_intersection\n",
    "\n",
    "# Get results\n",
    "results_lab_q1 = compare_images(features_lab_q1, features_lab, k, sim_func)\n",
    "results_lab_q2_no_back = compare_images(features_lab_q2_no_back, features_lab, k, sim_func)"
   ]
  },
  {
   "cell_type": "code",
   "execution_count": 21,
   "metadata": {},
   "outputs": [],
   "source": [
    "# Ensure that the destination folders exist\n",
    "os.makedirs(os.path.dirname(\"test_results/QST1/method2/\"), exist_ok=True)\n",
    "os.makedirs(os.path.dirname(\"test_results/QST2/method2/\"), exist_ok=True)\n",
    "\n",
    "# Save result lists as pickle files and masks as png images\n",
    "with open(\"test_results/QST1/method2/result.pkl\", \"wb\") as f:\n",
    "    pickle.dump(results_lab_q1, f)\n",
    "\n",
    "with open(\"test_results/QST2/method2/result.pkl\", \"wb\") as f:\n",
    "    pickle.dump(results_lab_q2_no_back, f)\n",
    "\n",
    "for i, mask in enumerate(masks):\n",
    "    final_mask = (mask[0]*mask[1]*mask[2])*255\n",
    "    image_mask_name = str(i).zfill(5) + \".png\"\n",
    "    cv2.imwrite(os.path.join(\"test_results/QST2/method2/\", image_mask_name), final_mask)"
   ]
  }
 ],
 "metadata": {
  "kernelspec": {
   "display_name": "Python 3",
   "language": "python",
   "name": "python3"
  },
  "language_info": {
   "codemirror_mode": {
    "name": "ipython",
    "version": 3
   },
   "file_extension": ".py",
   "mimetype": "text/x-python",
   "name": "python",
   "nbconvert_exporter": "python",
   "pygments_lexer": "ipython3",
   "version": "3.7.9"
  },
  "orig_nbformat": 4
 },
 "nbformat": 4,
 "nbformat_minor": 2
}
